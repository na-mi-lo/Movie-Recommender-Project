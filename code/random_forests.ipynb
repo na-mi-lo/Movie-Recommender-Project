{
 "cells": [
  {
   "cell_type": "code",
   "execution_count": 5,
   "id": "507d6ee3-4976-448f-931c-5104d923418a",
   "metadata": {},
   "outputs": [],
   "source": [
    "'''\n",
    "Importing...\n",
    "'''\n",
    "# importing math and numpy\n",
    "import math\n",
    "import numpy as np\n",
    "import matplotlib.pyplot as plt\n",
    "import pandas as pd\n",
    "# importing scipy for stats package\n",
    "import scipy\n",
    "# importing random forest classifier\n",
    "from sklearn import ensemble\n",
    "# importing some sklearn tools\n",
    "from sklearn.model_selection import train_test_split"
   ]
  },
  {
   "cell_type": "code",
   "execution_count": 25,
   "id": "724a8f60-7bd6-4e0d-bbc9-a52180a2be1e",
   "metadata": {},
   "outputs": [],
   "source": [
    "'''\n",
    "Function for creating our classes\n",
    "'''\n",
    "def create_classes(data, num_class):\n",
    "    '''\n",
    "    This function creates classes by splitting the Revenue data into different ranges depending on how\n",
    "    classes are being requested\n",
    "\n",
    "    Input: \n",
    "        - num_class -> (int) the number of classes we want to split the data into\n",
    "        - data -> the pandas dataset that we are altering\n",
    "\n",
    "    Output: The pandas dataset with new classes\n",
    "    '''\n",
    "    if num_class == 2:\n",
    "        data.loc[data['Revenue ( USD, Adjusted for 2024 Inflation)'] <= 50000000, \n",
    "        'Revenue Class'] = 0\n",
    "        data.loc[data['Revenue ( USD, Adjusted for 2024 Inflation)'] > 50000000, \n",
    "        'Revenue Class'] = 1\n",
    "    else:\n",
    "        data.loc[data['Revenue ( USD, Adjusted for 2024 Inflation)'] <= 25000000, 'Revenue Class'] = 0\n",
    "        data.loc[(data['Revenue ( USD, Adjusted for 2024 Inflation)'] >= 25000001) & (data['Revenue ( USD, Adjusted for 2024 Inflation)'] < 120000000), 'Revenue Class'] = 1\n",
    "        data.loc[data['Revenue ( USD, Adjusted for 2024 Inflation)'] >= 120000001, 'Revenue Class'] = 2\n",
    "\n",
    "    return data"
   ]
  },
  {
   "cell_type": "code",
   "execution_count": 26,
   "id": "2823e0d3-b03e-48a4-9fb3-1651580e6a8b",
   "metadata": {},
   "outputs": [],
   "source": [
    "'''\n",
    "Loading in the dataset\n",
    "'''\n",
    "def load_data():\n",
    "    '''\n",
    "    The function loads the dataset, removes rows with N/A values, selects numerical and categorical \n",
    "    columns.\n",
    "    \n",
    "    Input: None\n",
    "    \n",
    "    Output: Train and test datasets\n",
    "    '''\n",
    "    previous_data = pd.read_csv('IMDB_MovieListData_Normalized.csv')\n",
    "\n",
    "    numerical_features = ['Vote Average', \n",
    "                          'Vote Count', \n",
    "                          'Runtime (mins)', \n",
    "                          'Budget (USD, Adjusted for 2024 Inflation)', \n",
    "                          'Release Year', \n",
    "                          'Popularity', \n",
    "                          'Average Rating', \n",
    "                          'IMDB Rating', \n",
    "                          'Meta Score', \n",
    "                          'Revenue Class']\n",
    "\n",
    "    # Creating Classes\n",
    "    previous_data = create_classes(previous_data, 2)\n",
    "   \n",
    "    # Select only numerical \n",
    "    clean_data = previous_data[numerical_features]\n",
    "    # Dropping NaN rows\n",
    "    data = clean_data.dropna()\n",
    "\n",
    "    # Setting Data and Target variables\n",
    "    X = data.drop(columns=['Revenue Class'])\n",
    "    y = data['Revenue Class'] \n",
    "    \n",
    "    X_train, X_test, y_train, y_test = train_test_split(X, y, test_size=0.3, random_state=42)\n",
    "\n",
    "    train_test_sets = {\n",
    "        'X_train': X_train,\n",
    "        'X_test': X_test,\n",
    "        'y_train': y_train,\n",
    "        'y_test': y_test\n",
    "    }\n",
    "    return train_test_sets"
   ]
  },
  {
   "cell_type": "code",
   "execution_count": 27,
   "id": "91f8bb6f-1f23-49c3-976e-003446df9f84",
   "metadata": {},
   "outputs": [
    {
     "data": {
      "text/plain": [
       "0.8201438848920863"
      ]
     },
     "execution_count": 27,
     "metadata": {},
     "output_type": "execute_result"
    }
   ],
   "source": [
    "'''\n",
    "Running Random Forest Classifier\n",
    "'''\n",
    "datasets = load_data()\n",
    "classifier = ensemble.RandomForestClassifier()\n",
    "classifier.fit(datasets['X_train'], datasets['y_train'])\n",
    "classifier.score(datasets['X_test'], datasets['y_test'])"
   ]
  },
  {
   "cell_type": "code",
   "execution_count": null,
   "id": "be2ea57b-9247-446f-967f-6bc8e2b3c088",
   "metadata": {},
   "outputs": [],
   "source": []
  }
 ],
 "metadata": {
  "kernelspec": {
   "display_name": "Python 3 (ipykernel)",
   "language": "python",
   "name": "python3"
  },
  "language_info": {
   "codemirror_mode": {
    "name": "ipython",
    "version": 3
   },
   "file_extension": ".py",
   "mimetype": "text/x-python",
   "name": "python",
   "nbconvert_exporter": "python",
   "pygments_lexer": "ipython3",
   "version": "3.12.3"
  }
 },
 "nbformat": 4,
 "nbformat_minor": 5
}
