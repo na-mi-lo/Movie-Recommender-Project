{
 "cells": [
  {
   "cell_type": "code",
   "execution_count": 1,
   "id": "456d1555-48aa-4294-bb5f-baaacbe382c6",
   "metadata": {},
   "outputs": [],
   "source": [
    "#import libraries\n",
    "from sklearn import neighbors\n",
    "import pandas as pd\n",
    "import numpy as np\n",
    "from sklearn.compose import ColumnTransformer\n",
    "from sklearn.preprocessing import OneHotEncoder\n",
    "from sklearn.preprocessing import StandardScaler\n",
    "from sklearn.model_selection import train_test_split\n",
    "from sklearn.model_selection import RepeatedKFold\n",
    "from sklearn.metrics import r2_score"
   ]
  },
  {
   "cell_type": "code",
   "execution_count": 2,
   "id": "3e307b8b-5139-466c-ae9d-3293d03b933f",
   "metadata": {},
   "outputs": [
    {
     "ename": "SyntaxError",
     "evalue": "expected ':' (3400558452.py, line 33)",
     "output_type": "error",
     "traceback": [
      "\u001b[0;36m  Cell \u001b[0;32mIn[2], line 33\u001b[0;36m\u001b[0m\n\u001b[0;31m    | (data[:,'Revenue ( USD, Adjusted for 2024 Inflation)'] <= 500000), 'Revenue Range'] == 'Revenue: Between $1,000 and $500,000 USD')\u001b[0m\n\u001b[0m                                                                                                                                        ^\u001b[0m\n\u001b[0;31mSyntaxError\u001b[0m\u001b[0;31m:\u001b[0m expected ':'\n"
     ]
    }
   ],
   "source": [
    "def load_data():\n",
    "    '''\n",
    "    The function loads the dataset, removes rows with N/A values, and selects numerical columns for regression.\n",
    "    Input: None\n",
    "    Output: Train and test datasets for regression\n",
    "    '''\n",
    "    file_path = 'IMDB_MovieListData_Normalized.csv'\n",
    "    previous_data = pd.read_csv(file_path)\n",
    "    \n",
    "\n",
    "\n",
    "    # Define numerical features\n",
    "    numerical_features = [\n",
    "        'Vote Average',\n",
    "        'Vote Count',\n",
    "        'Runtime (mins)',\n",
    "        'Budget (USD, Adjusted for 2024 Inflation)',\n",
    "        'Release Year',\n",
    "        'Popularity',\n",
    "        'Average Rating',\n",
    "        'IMDB Rating',\n",
    "        'Revenue ( USD, Adjusted for 2024 Inflation)'\n",
    "    ]\n",
    "\n",
    "    # Select only numerical \n",
    "    clean_data = previous_data[numerical_features]\n",
    "    \n",
    "    #Remove rows with missing values\n",
    "    data = clean_data.dropna()\n",
    "\n",
    "def rangeCond(datFile):\n",
    "    for label in dataFile:\n",
    "        if label == \n",
    "\n",
    "    #set labels for revenue ranges\n",
    "    data.insert(9,'Revenue Range', rangeCond(data))\n",
    "\n",
    "\n",
    "    # Split features and target\n",
    "    X = data.drop(columns=['Revenue ( USD, Adjusted for 2024 Inflation)', 'Revenue Range'], axis=1)\n",
    "    y = data['Revenue Range']\n",
    "\n",
    "    # Scale numerical features\n",
    "    scaler = StandardScaler()\n",
    "    #X_scaled = scaler.fit_transform(X)\n",
    "    X_scaled = normalize(X)\n",
    "    #y = normalize(y)\n",
    "\n",
    "    # Train-test split\n",
    "    X_train, X_test, y_train, y_test = train_test_split(X_scaled, y, test_size=0.3, random_state=42)\n",
    "\n",
    "    train_test_sets = {\n",
    "        'X_train': X_train,\n",
    "        'X_test': X_test,\n",
    "        'y_train': y_train,\n",
    "        'y_test': y_test\n",
    "    }\n",
    "    return train_test_sets"
   ]
  },
  {
   "cell_type": "code",
   "execution_count": null,
   "id": "111efc14-76bb-448e-b52b-23a77c384315",
   "metadata": {},
   "outputs": [],
   "source": [
    "def printWeights(features, weights):\n",
    "    \"\"\"\n",
    "    Pretty-print the model weights.\n",
    "    features contains the name of each feature and weights is an array type of the same length.\n",
    "    You may need to modify this function depending on your implementation\n",
    "    \"\"\"\n",
    "    if \"bias\" not in features:\n",
    "        #print(\"Assuming the last weight is bias term; modify the printWeights function if this is not true\")\n",
    "        features = list(features)+[\"bias\"]\n",
    "    if len(weights) != len(features):\n",
    "        print(\"ERROR: printWeights() called with non-matching feature and weight vector lengths\")\n",
    "        return\n",
    "    print(\"\\t%30s %10s\" % (\"Feature\", \"Weight\"))\n",
    "    for i in range(len(features)):\n",
    "        print(\"\\t%30s %10.3f\" % (features[i], weights[i]))"
   ]
  },
  {
   "cell_type": "code",
   "execution_count": null,
   "id": "b14ac303-5fcd-4055-b95d-92956e0b5b46",
   "metadata": {},
   "outputs": [],
   "source": [
    "def normalize(X):\n",
    "    \"\"\"\n",
    "    You will get overflow problems when calculating exponentials if \n",
    "    your feature values are too large.  This function adjusts all values to be\n",
    "    in the range of 0 to 1 for each column.\n",
    "    \"\"\"         \n",
    "    X = X - X.min() # shift range to start at 0\n",
    "    normalizedX = X/X.max() # divide by possible range of values so max is now 1\n",
    "    return normalizedX"
   ]
  },
  {
   "cell_type": "code",
   "execution_count": null,
   "id": "356bd6dd-7b57-446b-bd9f-a08e5aaddb6d",
   "metadata": {},
   "outputs": [],
   "source": [
    "data = load_data()\n",
    "X_train, X_test = data['X_train'], data['X_test']\n",
    "y_train, y_test = data['y_train'], data['y_test']\n",
    "\n",
    "movieClassifier = neighbors.KNeighborsClassifier(metric='euclidean', n_neighbors=1)\n",
    "movieClassifier.fit(X_train, y_train)\n",
    "print(movieClassifier.score(X_test, y_test))"
   ]
  },
  {
   "cell_type": "code",
   "execution_count": null,
   "id": "f326cea9-d203-45c5-9c9f-0b8ff9d61454",
   "metadata": {},
   "outputs": [],
   "source": []
  }
 ],
 "metadata": {
  "kernelspec": {
   "display_name": "Python 3 (ipykernel)",
   "language": "python",
   "name": "python3"
  },
  "language_info": {
   "codemirror_mode": {
    "name": "ipython",
    "version": 3
   },
   "file_extension": ".py",
   "mimetype": "text/x-python",
   "name": "python",
   "nbconvert_exporter": "python",
   "pygments_lexer": "ipython3",
   "version": "3.12.3"
  }
 },
 "nbformat": 4,
 "nbformat_minor": 5
}
